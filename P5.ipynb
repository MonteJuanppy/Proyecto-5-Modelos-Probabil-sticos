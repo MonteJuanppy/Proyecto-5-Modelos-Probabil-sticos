{
 "cells": [
  {
   "cell_type": "markdown",
   "metadata": {},
   "source": [
    "---\n",
    "### Universidad de Costa Rica\n",
    "#### IE0405 - Modelos Probabilísticos de Señales y Sistemas\n",
    "---\n",
    "\n",
    "- Estudiantes: **Daniel Alvarado Cordero, Miguel Roberto Jiménez Tung, Juan Ignacio Montealegre Salazar**\n",
    "- Carné: **B90290, B94104, B95001**\n",
    "\n",
    "# `P5` - *Procesos M/M/s*\n",
    "\n",
    "> El caso especial de los procesos aleatorios donde existen \"estados\" y \"transiciones\" entre estos estados, las cadenas de Markov modelan las probabilidades de transición y el tiempo de permanencia entre cada estado. En particular, la teoría de colas describe la evolución del número de elementos en la fila, dado un flujo de entrada y un flujo de salida.\n",
    "\n",
    "---"
   ]
  },
  {
   "cell_type": "markdown",
   "metadata": {},
   "source": [
    "## 1. Sistemas M/M/1\n",
    "\n",
    "Con una tasa de llegada $\\lambda$ y un parámetro de tiempo de servicio $\\nu$, un proceso de Markov con un solo servidor también recibe la notación de *sistema de colas* **M/M/1** (donde la M viene de Markov). Más en general, con $s$ servidores es un sistema **M/M/s**.\n",
    "\n",
    "La simulación de un sistema del tipo **M/M/1** implica la generación de una llegada de \"clientes\" como una *corriente de Poisson*. Esto es equivalente a decir que tienen una distribución de probabilidad de *tiempo entre arribos* con distribución exponencial y parámetro $\\lambda$.\n",
    "\n",
    "Por su parte, el *tiempo de servicio* tiene también una distribución exponencial pero con parámetro $\\nu$. A la relación $\\lambda/\\nu$ usualmente se le conoce como $\\rho$.\n",
    "\n",
    "**Nota**: El tiempo de servicio se asume independiente del tiempo de llegada.\n",
    "\n",
    "#### Sobre la simulación\n",
    "\n",
    "Es posible crear una simulación de $N$ clientes con sus respectivos tiempos de servicio, distribuidos en el tiempo.\n",
    "\n",
    "Para medir el tiempo se puede utilizar una medida mínima arbitraria, pero que tenga sentido para el problema. Por ejemplo: si la tasa de llegada es de 1 persona/minuto, vale más tener una granularidad de segundos o decenas de segundos para capturar una precisión temporal adecuada.\n",
    "\n",
    "**Nota**: De la selección de $N$ puede depender la precisión deseada para el resultado. Por ejemplo: con $N = 1000$ es posible obtener una precisión de hasta el 0,001 o 0,1% ($1/N$).\n",
    "\n",
    "### 1.1. - Problema de ejemplo: un servidor web\n",
    "\n",
    "> Un servidor web es modelado como un sistema M/M/1 con una tasa de arribo de dos solicitudes por minuto. Es deseado tener cuatro o menos solicitudes en fila el 99\\% del tiempo. ¿Qué tan rápido debe ser el servicio? $\\nu$ es el parámetro de solicitudes atendidas por minuto.\n",
    "\n",
    "El estado $i$ es el número de clientes en el sistema. La longitud de la fila es $L_q = i - 1$ (*queue length*), en virtud de la solicitud que está siendo atendida en $s = 1$ servidores. Es posible encontrar que:\n",
    "\n",
    "$$\n",
    "P( \\text{5 o más clientes en el sistema} ) = \\sum_{i=5}^{\\infty} (1 - \\rho) \\rho^i  = 1 - \\sum_{i=0}^{4} (1 - \\rho) \\rho^i = \\rho^5\n",
    "$$\n",
    "\n",
    "que depende de $\\rho = \\lambda/\\nu$ y del parámetro de servicio $\\nu$ buscado. \n",
    "\n",
    "De los datos del problema: $\\lambda = 2$. Para tener una fila de 3 o menos clientes el 99\\% del tiempo se necesita:\n",
    "\n",
    "$$\n",
    "\\begin{aligned}\n",
    "P( \\text{5 o más clientes en el sistema} ) = \\rho^5 & = \\left( \\frac{\\lambda}{\\nu} \\right)^5 \\leq 0.01 \\\\\n",
    "\\nu^5 & \\geq \\frac{\\lambda^5}{0.01} = \\frac{2^5}{0.01} = 3200 \\quad \\Rightarrow \\quad \\nu \\geq 5.024\n",
    "\\end{aligned}\n",
    "$$\n",
    "\n",
    "es decir, el servidor debe atender más de 5,024 solicitudes por minuto en promedio para poder satisfacer el requisito.\n",
    "\n",
    "En la siguiente simulación, con $N = 1000$, y $\\nu = 3 < 5.024$ deberíamos obtener una probabilidad $P( \\text{5 o más clientes en el sistema} ) > 0.01$ que **no** cumple con las especificaciones.\n",
    "\n",
    "**Nota**: Observar el cambio de unidades de minutos a segundos, para lograr mayor \"granularidad\"."
   ]
  },
  {
   "cell_type": "code",
   "execution_count": 1,
   "metadata": {},
   "outputs": [
    {
     "name": "stdout",
     "output_type": "stream",
     "text": [
      "Parámetro lambda = 2.0\n",
      "Parámetro nu = 3.0\n",
      "Tiempo con más de 3 solicitudes en fila:\n",
      "\t 13.07%\n",
      "\t No cumple con la especificación.\n",
      "Simulación es equivalente a 8.45 horas.\n"
     ]
    },
    {
     "data": {
      "image/png": "[encoded data removed]",
      "text/plain": [
       "<Figure size 432x288 with 1 Axes>"
      ]
     },
     "metadata": {
      "needs_background": "light"
     },
     "output_type": "display_data"
    }
   ],
   "source": [
    "import numpy as np\n",
    "from scipy import stats\n",
    "import matplotlib.pyplot as plt\n",
    "\n",
    "# Número de clientes\n",
    "N = 1000\n",
    "\n",
    "# Parámetro de llegada (clientes/segundos)\n",
    "lam = 2/60\n",
    "\n",
    "# Parámetro de servicio (servicios/segundos)\n",
    "nu = 3/60\n",
    "\n",
    "# Distribución de los tiempos de llegada entre cada cliente\n",
    "X = stats.expon(scale = 1/lam)\n",
    "\n",
    "# Distribución de los tiempos de servicio a cada cliente\n",
    "Y = stats.expon(scale = 1/nu)\n",
    "\n",
    "# Intervalos entre llegadas (segundos desde último cliente)\n",
    "t_intervalos = np.ceil(X.rvs(N)).astype('int')\n",
    "\n",
    "# Tiempos de las llegadas (segundos desde el inicio)\n",
    "t_llegadas = [t_intervalos[0]]\n",
    "for i in range(1, len(t_intervalos)):\n",
    "    siguiente = t_llegadas[i-1] + t_intervalos[i]\n",
    "    t_llegadas.append(siguiente)\n",
    "\n",
    "# Tiempos de servicio (segundos desde inicio de servicio)\n",
    "t_servicio = np.ceil(Y.rvs(N)).astype('int')\n",
    "\n",
    "# Inicialización del tiempo de inicio y fin de atención\n",
    "inicio = t_llegadas[0]          # primera llegada\n",
    "fin = inicio + t_servicio[0]    # primera salida\n",
    "\n",
    "# Tiempos en que recibe atención cada i-ésimo cliente (!= que llega)\n",
    "t_atencion = [inicio]\n",
    "for i in range(1, N):\n",
    "    inicio = np.max((t_llegadas[i], fin))\n",
    "    fin = inicio + t_servicio[i]\n",
    "    t_atencion.append(inicio)\n",
    "\n",
    "# Inicialización del vector temporal para registrar eventos\n",
    "t = np.zeros(t_atencion[-1] + t_servicio[-1] + 1)\n",
    "\n",
    "# Asignación de eventos de llegada (+1) y salida (-1) de clientes\n",
    "for c in range(N):\n",
    "    i = t_llegadas[c]\n",
    "    t[i] += 1\n",
    "    j = t_atencion[c] + t_servicio[c]\n",
    "    t[j] -= 1\n",
    "\n",
    "# Umbral de P o más personas en sistema (hay P - 1 en fila)\n",
    "P = 5\n",
    "\n",
    "# Instantes (segundos) de tiempo con P o más solicitudes en sistema\n",
    "exceso = 0\n",
    "\n",
    "# Proceso aleatorio (estados n = {0, 1, 2...})\n",
    "Xt = np.zeros(t.shape)\n",
    "\n",
    "# Inicialización de estado n\n",
    "n = 0\n",
    "\n",
    "# Recorrido del vector temporal y conteo de clientes (estado n)\n",
    "for i, c in enumerate(t):\n",
    "    n += c # sumar (+1) o restar (-1) al estado\n",
    "    Xt[i] = n\n",
    "    if Xt[i] >= P: \n",
    "        exceso += 1\n",
    "\n",
    "# Fracción de tiempo con P o más solicitudes en sistema\n",
    "fraccion = exceso / len(t)\n",
    "\n",
    "# Resultados\n",
    "print('Parámetro lambda =', str(lam*60))\n",
    "print('Parámetro nu =', str(nu*60))\n",
    "print('Tiempo con más de {} solicitudes en fila:'.format(P-2))\n",
    "print('\\t {:0.2f}%'.format(100*fraccion))\n",
    "if fraccion <= 0.01:\n",
    "    print('\\t Sí cumple con la especificación.')\n",
    "else:\n",
    "    print('\\t No cumple con la especificación.') \n",
    "print('Simulación es equivalente a {:0.2f} horas.'.format(len(t)/3600))\n",
    "\n",
    "# Gráfica de X(t) (estados del sistema)\n",
    "plt.figure()\n",
    "plt.plot(Xt)\n",
    "plt.plot(range(len(t)), (P-1)*np.ones(t.shape))\n",
    "plt.legend(('$X(t) = n$', '$L_q = $' + str(P-2)))\n",
    "plt.ylabel('Clientes en el sistema, $n$')\n",
    "plt.xlabel('Tiempo, $t$ / segundos')\n",
    "plt.xlim((0, 5000))\n",
    "plt.show()"
   ]
  },
  {
   "cell_type": "markdown",
   "metadata": {},
   "source": [
    "---\n",
    "## 2. - Asignaciones\n",
    "\n",
    "Es menester tomar una decisión con respecto al número de \"servidores\" necesarios para cierto proceso de vacunación, de forma tal que el sistema no exceda 50 personas en fila durante el 95% del tiempo de servicio. \n",
    "\n",
    "En un estudio de afluencia y del tiempo de servicio se asumen y determinan los siguientes parámetros:\n",
    "\n",
    "- La tasa de llegada $\\lambda$ es constante durante ocho horas de funcionamiento y tiene un valor de $\\lambda = 4$ personas por minuto.\n",
    "\n",
    "- La tasa de servicio $\\nu$ de cada \"servidor\" (es decir, personal de salud tomando datos y vacunando) es constante durante ocho horas de funcionamiento y tiene un valor de $\\nu = 0.25$ personas por minuto.\n",
    "\n",
    "Entonces,\n",
    "\n",
    "- (40%) Hacer la determinación teórica del número $s$ de servidores necesarios para cumplir el requisito."
   ]
  },
  {
   "cell_type": "markdown",
   "metadata": {},
   "source": [
    "Recordemos la probabilidad phi_0\n",
    "\n",
    "$$\n",
    "\\phi_{0}=\\left[\\sum_{k=0}^{s-1} \\frac{(s \\rho)^{k}}{k !}+\\frac{(s \\rho)^{s}}{s !(1-\\rho)}\\right]^{-1}\n",
    "$$"
   ]
  },
  {
   "cell_type": "code",
   "execution_count": 2,
   "metadata": {},
   "outputs": [],
   "source": [
    "import math\n",
    "\n",
    "#Función para calcular término phi_0\n",
    "def phi_cero(s, p):\n",
    "    suma = 0 \n",
    "    # Se realiza primero una sumatoria\n",
    "    for k in range(0, s):  # Rango de 0 a s-1\n",
    "        suma+= ((s*p)**k)/(math.factorial(k))\n",
    "\n",
    "    suma+= ((s*p)**s)/((math.factorial(s))*(1-p)) \n",
    "    suma = suma**-1\n",
    "    return suma \n"
   ]
  },
  {
   "cell_type": "markdown",
   "metadata": {},
   "source": [
    "Luego es necesario calcular la probabilidad de cada dato\n",
    "$$\n",
    "\\phi_{i}=\\left\\{\\begin{array}{l}\n",
    "\\frac{(s \\rho)^{i}}{i !} \\phi_{0} \\quad \\text { para } i<s \\\\\n",
    "\\frac{s^{s} \\rho^{i}}{s !} \\phi_{0} \\quad \\text { para } i \\geq s\n",
    "\\end{array}\\right.\n",
    "$$"
   ]
  },
  {
   "cell_type": "code",
   "execution_count": 3,
   "metadata": {},
   "outputs": [],
   "source": [
    "#Funciones para calcular porbabilidad phi_i\n",
    "\n",
    "def phi_i_menor(i, s, p, phi_0):  # phi_i para i < s\n",
    "    formula = (((s*p)**i)/(math.factorial(i)))*phi_0\n",
    "    return formula\n",
    "\n",
    "def phi_i_mayor(i, s, p, phi_0):  # philetra _i para i > s\n",
    "    formula = (((s**s)*(p**i))/(math.factorial(s)))*phi_0\n",
    "    return formula\n"
   ]
  },
  {
   "cell_type": "markdown",
   "metadata": {},
   "source": [
    "Se realiza la sumatoria de todos los datos menores a 50 más la cantidad de servidores, para así luego obtener la probabilidad de que se den datos mayores a 50 más la cantidad de servidores"
   ]
  },
  {
   "cell_type": "code",
   "execution_count": 4,
   "metadata": {},
   "outputs": [
    {
     "name": "stdout",
     "output_type": "stream",
     "text": [
      "La probabilidad de tener más de 50 personas en fila con 17 servidores es de 3.35 %\n"
     ]
    }
   ],
   "source": [
    "# Cálculo de probabilidad\n",
    "\n",
    "# Cantidad de servidores\n",
    "s = 17\n",
    "#Tasa de llegada lambda\n",
    "lmbda = 4\n",
    "#Tasa de salida v\n",
    "v = 0.25\n",
    "p = lmbda/(v*s)\n",
    "prob_menos_50 = 0\n",
    "n = 50+s\n",
    "for i in range(n+1):\n",
    "    # Calcular probabilidad de que hayan 50 personas en fila\n",
    "    if (i < s):\n",
    "        prob_menos_50+= phi_i_menor(i, s, p, phi_cero(s,p))\n",
    "    if (i >= s):\n",
    "        prob_menos_50+= phi_i_mayor(i, s, p, phi_cero(s,p))\n",
    "\n",
    "# Probabilidad de que hayan 50 o más clientes en fila\n",
    "prob_mas_50 = (1-prob_menos_50)*100\n",
    "print(\"La probabilidad de tener más de 50 personas en fila con %.d servidores es de %.2f %%\" %(s,prob_mas_50))\n"
   ]
  },
  {
   "cell_type": "markdown",
   "metadata": {},
   "source": [
    "A partir del resultado anterior obtenido con 17 servidores, podemos afirmar que esta cantidad de servidores cumple con lo requerido, ya que es menor al 5%. Por esta razón, la siguiente simulación se realizará con 17 servidores"
   ]
  },
  {
   "cell_type": "markdown",
   "metadata": {},
   "source": [
    "- (60%) Modificar el código provisto para simular y corroborar el resultado anterior y crear al menos dos gráficas que muestren esta simulación."
   ]
  },
  {
   "cell_type": "code",
   "execution_count": 5,
   "metadata": {},
   "outputs": [],
   "source": [
    "import numpy as np\n",
    "from scipy import stats\n",
    "import matplotlib.pyplot as plt\n",
    "\n",
    "\n",
    "def Procesos(N, lam, nu, s):\n",
    "    # Distribución de los tiempos de llegada entre cada cliente\n",
    "    X = stats.expon(scale = 1/lam)\n",
    "\n",
    "    # Distribución de los tiempos de servicio a cada cliente\n",
    "    Y = stats.expon(scale = 1/(nu))\n",
    "\n",
    "    # Intervalos entre llegadas (segundos desde último cliente)\n",
    "    t_intervalos = np.ceil(X.rvs(N)).astype('int')\n",
    "\n",
    "    # Tiempos de las llegadas (segundos desde el inicio)\n",
    "    t_llegadas = [t_intervalos[0]]\n",
    "    for i in range(1, len(t_intervalos)):\n",
    "        siguiente = t_llegadas[i-1] + t_intervalos[i]\n",
    "        t_llegadas.append(siguiente)\n",
    "\n",
    "    # Tiempos de servicio (segundos desde inicio de servicio)\n",
    "    t_servicio = np.ceil(Y.rvs(N)).astype('int')\n",
    "    \n",
    "    # Inicialización del tiempo de inicio y fin de atención\n",
    "    inicio = t_llegadas[0]          # primera llegada\n",
    "    fin = inicio + t_servicio[0]    # primera salida\n",
    "    \n",
    "    #Vector con los tiempos de fin de servicio de cada servidor\n",
    "    servidores = np.zeros(s)\n",
    "    \n",
    "    #Asignacion de primer cliente\n",
    "    servidores[0] = fin \n",
    "\n",
    "    # Tiempos en que recibe atención cada i-ésimo cliente (!= que llega)\n",
    "    t_atencion = [inicio]\n",
    "    \n",
    "    for i in range(1, N):\n",
    "        \n",
    "        servidores_disponibles  = np.where(servidores <= t_llegadas[i])\n",
    "        \n",
    "        if len(servidores_disponibles[0]) == 0:\n",
    "            inicio = np.min(servidores) + 1\n",
    "            fin = inicio + t_servicio[i]  \n",
    "            \n",
    "        else: \n",
    "            inicio = t_llegadas[i]\n",
    "            fin = inicio + t_servicio[i]\n",
    "           \n",
    "        \n",
    "        k = servidores.tolist().index(np.min(servidores))\n",
    "        servidores[k] = fin\n",
    "        t_atencion.append(inicio.astype(int))\n",
    "\n",
    "    # Inicialización del vector temporal para registrar eventos\n",
    "    t = np.zeros(t_atencion[-1] + max(t_servicio) + 1)\n",
    "\n",
    "    # Asignación de eventos de llegada (+1) y salida (-1) de clientes\n",
    "    for c in range(N):\n",
    "        i = t_llegadas[c]\n",
    "        t[i] += 1\n",
    "        j = t_atencion[c] + t_servicio[c]\n",
    "        t[j] -= 1\n",
    "\n",
    "    # Umbral de P o más personas en sistema (hay P - 1 en fila)\n",
    "    P = 50+s+1\n",
    "\n",
    "    # Instantes (segundos) de tiempo con P o más solicitudes en sistema\n",
    "    exceso = 0\n",
    "\n",
    "    # Proceso aleatorio (estados n = {0, 1, 2...})\n",
    "    Xt = np.zeros(t.shape)\n",
    "\n",
    "    # Inicialización de estado n\n",
    "    n = 0\n",
    "\n",
    "    # Recorrido del vector temporal y conteo de clientes (estado n)\n",
    "    for i, c in enumerate(t):\n",
    "        n += c # sumar (+1) o restar (-1) al estado\n",
    "        Xt[i] = n\n",
    "        if Xt[i] >= P: \n",
    "            exceso += 1\n",
    "\n",
    "    # Fracción de tiempo con P o más solicitudes en sistema\n",
    "    fraccion = exceso / len(t)\n",
    "\n",
    "    # Resultados\n",
    "    print('Parámetro lambda =', str(lam*60))\n",
    "    print('Parámetro nu =', str(nu*60))\n",
    "    print('Cantidad de servidores =', str(s))\n",
    "    print('Tiempo con más de {} solicitudes en fila:'.format(P-1-s))\n",
    "    print('\\t {:0.2f}%'.format(100*fraccion))\n",
    "    \n",
    "    if fraccion <= 0.05:\n",
    "        print('\\t Sí cumple con la especificación.')\n",
    "    else:\n",
    "        print('\\t No cumple con la especificación.') \n",
    "    print('Simulación es equivalente a {:0.2f} horas.'.format(len(t)/3600))\n",
    "\n",
    "    # Gráfica de X(t) (estados del sistema)\n",
    "    plt.figure()\n",
    "    plt.plot(Xt)\n",
    "    plt.plot(range(len(t)), (P-1)*np.ones(t.shape))\n",
    "    plt.legend(('$X(t) = n$', '$L_q = $' + str(P-2)))\n",
    "    plt.ylabel('Clientes en el sistema, $n$')\n",
    "    plt.xlabel('Tiempo, $t$ / segundos')\n",
    "    plt.xlim((0, 15000))\n",
    "    plt.show()\n",
    "    "
   ]
  },
  {
   "cell_type": "code",
   "execution_count": 6,
   "metadata": {},
   "outputs": [
    {
     "name": "stdout",
     "output_type": "stream",
     "text": [
      "Parámetro lambda = 4.0\n",
      "Parámetro nu = 0.25\n",
      "Cantidad de servidores = 16\n",
      "Tiempo con más de 50 solicitudes en fila:\n",
      "\t 6.20%\n",
      "\t No cumple con la especificación.\n",
      "Simulación es equivalente a 4.76 horas.\n"
     ]
    },
    {
     "data": {
      "image/png": "[encoded data removed]",
      "text/plain": [
       "<Figure size 432x288 with 1 Axes>"
      ]
     },
     "metadata": {
      "needs_background": "light"
     },
     "output_type": "display_data"
    }
   ],
   "source": [
    "# Para s = 16\n",
    "Procesos(1000, (4/60), (0.25/60), 16)"
   ]
  },
  {
   "cell_type": "code",
   "execution_count": 7,
   "metadata": {},
   "outputs": [
    {
     "name": "stdout",
     "output_type": "stream",
     "text": [
      "Parámetro lambda = 4.0\n",
      "Parámetro nu = 0.25\n",
      "Cantidad de servidores = 17\n",
      "Tiempo con más de 50 solicitudes en fila:\n",
      "\t 0.00%\n",
      "\t Sí cumple con la especificación.\n",
      "Simulación es equivalente a 4.63 horas.\n"
     ]
    },
    {
     "data": {
      "image/png": "[encoded data removed]",
      "text/plain": [
       "<Figure size 432x288 with 1 Axes>"
      ]
     },
     "metadata": {
      "needs_background": "light"
     },
     "output_type": "display_data"
    }
   ],
   "source": [
    "# Para s = 17\n",
    "Procesos(1000, (4/60), (0.25/60), 17)"
   ]
  },
  {
   "cell_type": "markdown",
   "metadata": {},
   "source": [
    "####  Analisis de Resultados\n",
    "Como se puede apreciar en las gráficas anteriores, se demuestra que el mínimo de servidores nescesarios para que el sistema no exceda 50 personas en fila durante el 95% del tiempo de servicio es de 16.95 por lo que se toma el entero superior más próximo (17). En la primera gráfica, se puede ver que al usar 16 servidores, no se cumple la condición principal, obteniendo un número mayor de personas en fila por mas del 5% del tiempo total. Por otra parte, en la segunda gráfica, se puede ver como utilizando los servidores mínimos (17), se cumple la condición anterior. Además, es importante mencionar que la probabilidad de cambio de estado se trabaja a partir de 52 personas, ya que es la cantidad de personas con la que se sobrepasa la condicion de operación especificada (1 persona siendo antentidad y 50 personas en fila)."
   ]
  },
  {
   "cell_type": "markdown",
   "metadata": {},
   "source": [
    "\n",
    "#### Sobre la presentación\n",
    "\n",
    "El trabajo debe entregarse como un *notebook* de Jupyter nuevo (sin incluir información de este enunciado), en la forma de reporte. La primera parte de las asignaciones debe ser desarrollada por completo y en orden, editando las ecuaciones en $\\LaTeX$. La segunda parte debe incluir el código desarrollado y sus resultados. Esto es enviado vía Mediación Virtual, uno por grupo."
   ]
  },
  {
   "cell_type": "markdown",
   "metadata": {},
   "source": [
    "---\n",
    "\n",
    "**Universidad de Costa Rica**\n",
    "\n",
    "Facultad de Ingeniería\n",
    "\n",
    "Escuela de Ingeniería Eléctrica\n",
    "\n",
    "---"
   ]
  }
 ],
 "metadata": {
  "kernelspec": {
   "display_name": "Python 3",
   "language": "python",
   "name": "python3"
  },
  "language_info": {
   "codemirror_mode": {
    "name": "ipython",
    "version": 3
   },
   "file_extension": ".py",
   "mimetype": "text/x-python",
   "name": "python",
   "nbconvert_exporter": "python",
   "pygments_lexer": "ipython3",
   "version": "3.8.8"
  }
 },
 "nbformat": 4,
 "nbformat_minor": 2
}
